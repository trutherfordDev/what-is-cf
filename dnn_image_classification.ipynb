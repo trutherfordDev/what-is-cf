{
  "nbformat": 4,
  "nbformat_minor": 0,
  "metadata": {
    "colab": {
      "provenance": [],
      "authorship_tag": "ABX9TyOWGyEt8RngIh3nC1AQ1308",
      "include_colab_link": true
    },
    "kernelspec": {
      "name": "python3",
      "display_name": "Python 3"
    },
    "language_info": {
      "name": "python"
    }
  },
  "cells": [
    {
      "cell_type": "markdown",
      "metadata": {
        "id": "view-in-github",
        "colab_type": "text"
      },
      "source": [
        "<a href=\"https://colab.research.google.com/github/trutherfordDev/what-is-cf/blob/main/dnn_image_classification.ipynb\" target=\"_parent\"><img src=\"https://colab.research.google.com/assets/colab-badge.svg\" alt=\"Open In Colab\"/></a>"
      ]
    },
    {
      "cell_type": "code",
      "execution_count": 1,
      "metadata": {
        "colab": {
          "base_uri": "https://localhost:8080/"
        },
        "id": "MQZoCJhgtqEx",
        "outputId": "c34c6558-fe15-4e2a-b979-191a42280149"
      },
      "outputs": [
        {
          "output_type": "stream",
          "name": "stdout",
          "text": [
            "Cloning into 'training-data-analyst'...\n",
            "remote: Enumerating objects: 65470, done.\u001b[K\n",
            "remote: Counting objects: 100% (37/37), done.\u001b[K\n",
            "remote: Compressing objects: 100% (31/31), done.\u001b[K\n",
            "remote: Total 65470 (delta 9), reused 23 (delta 5), pack-reused 65433 (from 1)\u001b[K\n",
            "Receiving objects: 100% (65470/65470), 697.48 MiB | 20.15 MiB/s, done.\n",
            "Resolving deltas: 100% (41839/41839), done.\n",
            "Updating files: 100% (12879/12879), done.\n"
          ]
        }
      ],
      "source": [
        "!git clone https://github.com/GoogleCloudPlatform/training-data-analyst"
      ]
    },
    {
      "cell_type": "code",
      "source": [],
      "metadata": {
        "id": "HT6FkUMPuV-w"
      },
      "execution_count": null,
      "outputs": []
    }
  ]
}